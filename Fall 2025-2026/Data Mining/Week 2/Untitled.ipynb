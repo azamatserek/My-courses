{
 "cells": [
  {
   "cell_type": "code",
   "execution_count": null,
   "id": "70a43baa-34ec-45e5-a308-078148a21ded",
   "metadata": {},
   "outputs": [],
   "source": []
  }
 ],
 "metadata": {
  "kernelspec": {
   "display_name": "",
   "name": ""
  },
  "language_info": {
   "name": ""
  }
 },
 "nbformat": 4,
 "nbformat_minor": 5
}
