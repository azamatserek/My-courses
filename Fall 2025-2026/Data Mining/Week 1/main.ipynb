{
 "cells": [
  {
   "cell_type": "code",
   "execution_count": null,
   "id": "297fb2af-8c48-434a-a28e-6d64a77a83ab",
   "metadata": {},
   "outputs": [],
   "source": []
  }
 ],
 "metadata": {
  "kernelspec": {
   "display_name": "",
   "name": ""
  },
  "language_info": {
   "name": ""
  }
 },
 "nbformat": 4,
 "nbformat_minor": 5
}
