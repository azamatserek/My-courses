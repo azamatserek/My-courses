{
 "cells": [
  {
   "cell_type": "code",
   "execution_count": 1,
   "id": "70a43baa-34ec-45e5-a308-078148a21ded",
   "metadata": {},
   "outputs": [
    {
     "name": "stdout",
     "output_type": "stream",
     "text": [
      "Original Data:\n",
      "     Name   Age  Score\n",
      "0   Anna  22.0   88.0\n",
      "1    Ben   NaN   92.0\n",
      "2   Cara  25.0    NaN\n",
      "3  Dylan  29.0   79.0\n",
      "4   Ella   NaN   85.0\n"
     ]
    }
   ],
   "source": [
    "import pandas as pd\n",
    "import numpy as np\n",
    "\n",
    "data = {\n",
    "    'Name': ['Anna', 'Ben', 'Cara', 'Dylan', 'Ella'],\n",
    "    'Age': [22, np.nan, 25, 29, np.nan],\n",
    "    'Score': [88, 92, np.nan, 79, 85]\n",
    "}\n",
    "df = pd.DataFrame(data)\n",
    "print(\"Original Data:\\n\", df)\n"
   ]
  },
  {
   "cell_type": "code",
   "execution_count": 2,
   "id": "6050cb16-58ad-49a4-a670-3cef4c94a40f",
   "metadata": {},
   "outputs": [
    {
     "name": "stdout",
     "output_type": "stream",
     "text": [
      "Missing values:\n",
      " Name     0\n",
      "Age      2\n",
      "Score    1\n",
      "dtype: int64\n",
      "Drop rows with NaNs:\n",
      "     Name   Age  Score\n",
      "0   Anna  22.0   88.0\n",
      "3  Dylan  29.0   79.0\n",
      "Filled with 0:\n",
      "     Name   Age  Score\n",
      "0   Anna  22.0   88.0\n",
      "1    Ben   0.0   92.0\n",
      "2   Cara  25.0    0.0\n",
      "3  Dylan  29.0   79.0\n",
      "4   Ella   0.0   85.0\n",
      "Filled with mean:\n",
      "     Name        Age  Score\n",
      "0   Anna  22.000000   88.0\n",
      "1    Ben  25.333333   92.0\n",
      "2   Cara  25.000000   86.0\n",
      "3  Dylan  29.000000   79.0\n",
      "4   Ella  25.333333   85.0\n",
      "Forward fill:\n",
      "     Name   Age  Score\n",
      "0   Anna  22.0   88.0\n",
      "1    Ben  22.0   92.0\n",
      "2   Cara  25.0   92.0\n",
      "3  Dylan  29.0   79.0\n",
      "4   Ella  29.0   85.0\n"
     ]
    },
    {
     "name": "stderr",
     "output_type": "stream",
     "text": [
      "C:\\Users\\9527\\AppData\\Local\\Temp\\ipykernel_22536\\303104268.py:19: FutureWarning: DataFrame.fillna with 'method' is deprecated and will raise in a future version. Use obj.ffill() or obj.bfill() instead.\n",
      "  df_ffill = df.fillna(method='ffill')\n"
     ]
    }
   ],
   "source": [
    "# Check where missing\n",
    "print(\"Missing values:\\n\", df.isnull().sum())\n",
    "\n",
    "# Drop rows with any missing values\n",
    "df_dropna = df.dropna()\n",
    "print(\"Drop rows with NaNs:\\n\", df_dropna)\n",
    "\n",
    "# Fill with specific value\n",
    "df_fill0 = df.fillna(0)\n",
    "print(\"Filled with 0:\\n\", df_fill0)\n",
    "\n",
    "# Fill with column mean\n",
    "df_mean = df.copy()\n",
    "df_mean['Age'] = df_mean['Age'].fillna(df_mean['Age'].mean())\n",
    "df_mean['Score'] = df_mean['Score'].fillna(df_mean['Score'].mean())\n",
    "print(\"Filled with mean:\\n\", df_mean)\n",
    "\n",
    "# Forward-fill (propagate previous values)\n",
    "df_ffill = df.fillna(method='ffill')\n",
    "print(\"Forward fill:\\n\", df_ffill)\n"
   ]
  },
  {
   "cell_type": "code",
   "execution_count": 3,
   "id": "8dda1ca8-ab1f-4586-873d-2af11754a1b3",
   "metadata": {},
   "outputs": [
    {
     "name": "stdout",
     "output_type": "stream",
     "text": [
      "Outlier bounds: 45.647371286123644 95.33770600551577\n",
      "Cleaned data:\n",
      "            Score\n",
      "count  94.000000\n",
      "mean   69.294777\n",
      "std     8.862589\n",
      "min    50.124311\n",
      "25%    64.089491\n",
      "50%    68.730437\n",
      "75%    75.091291\n",
      "max    88.522782\n"
     ]
    }
   ],
   "source": [
    "# Create synthetic data\n",
    "np.random.seed(42)\n",
    "normal_scores = np.random.normal(loc=70, scale=10, size=100)\n",
    "# Inject outliers\n",
    "normal_scores[95:] = [150, 160, 170, 180, 190]\n",
    "\n",
    "df_outliers = pd.DataFrame({'Score': normal_scores})\n",
    "\n",
    "# IQR method\n",
    "Q1 = df_outliers['Score'].quantile(0.25)\n",
    "Q3 = df_outliers['Score'].quantile(0.75)\n",
    "IQR = Q3 - Q1\n",
    "\n",
    "lower = Q1 - 1.5 * IQR\n",
    "upper = Q3 + 1.5 * IQR\n",
    "\n",
    "print(\"Outlier bounds:\", lower, upper)\n",
    "\n",
    "# Filter out outliers\n",
    "df_no_outliers = df_outliers[(df_outliers['Score'] >= lower) & (df_outliers['Score'] <= upper)]\n",
    "print(\"Cleaned data:\\n\", df_no_outliers.describe())\n"
   ]
  },
  {
   "cell_type": "code",
   "execution_count": null,
   "id": "0b821281-309f-4d77-b0cb-2e01ca08a67b",
   "metadata": {},
   "outputs": [],
   "source": []
  }
 ],
 "metadata": {
  "kernelspec": {
   "display_name": "Python 3 (ipykernel)",
   "language": "python",
   "name": "python3"
  },
  "language_info": {
   "codemirror_mode": {
    "name": "ipython",
    "version": 3
   },
   "file_extension": ".py",
   "mimetype": "text/x-python",
   "name": "python",
   "nbconvert_exporter": "python",
   "pygments_lexer": "ipython3",
   "version": "3.12.10"
  }
 },
 "nbformat": 4,
 "nbformat_minor": 5
}
