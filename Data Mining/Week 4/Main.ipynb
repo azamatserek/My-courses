{
 "cells": [
  {
   "cell_type": "code",
   "execution_count": 1,
   "id": "9ef4393e-c432-4a87-9e1b-6fe5f4ab60cf",
   "metadata": {},
   "outputs": [
    {
     "name": "stdout",
     "output_type": "stream",
     "text": [
      "Mean Age: 35.285714285714285\n",
      "Median Salary: 40000.0\n",
      "Standard Deviation of Salary: 10801.234497346433\n",
      "Min/Max Age: 22 50\n",
      "Summary:\n",
      "              Age        Salary\n",
      "count   7.000000      7.000000\n",
      "mean   35.285714  40000.000000\n",
      "std    10.355583  10801.234497\n",
      "min    22.000000  25000.000000\n",
      "25%    27.500000  32500.000000\n",
      "50%    35.000000  40000.000000\n",
      "75%    42.500000  47500.000000\n",
      "max    50.000000  55000.000000\n"
     ]
    }
   ],
   "source": [
    "import pandas as pd\n",
    "import numpy as np\n",
    "\n",
    "# Example dataset\n",
    "data = pd.DataFrame({\n",
    "    'Age': [22, 25, 30, 35, 40, 45, 50],\n",
    "    'Salary': [25000, 30000, 35000, 40000, 45000, 50000, 55000]\n",
    "})\n",
    "\n",
    "print(\"Mean Age:\", data['Age'].mean())\n",
    "print(\"Median Salary:\", data['Salary'].median())\n",
    "print(\"Standard Deviation of Salary:\", data['Salary'].std())\n",
    "print(\"Min/Max Age:\", data['Age'].min(), data['Age'].max())\n",
    "print(\"Summary:\\n\", data.describe())\n"
   ]
  },
  {
   "cell_type": "markdown",
   "id": "6c1daf85-2e85-47e8-8044-f4d25a61569e",
   "metadata": {},
   "source": [
    "Example: One-Sample t-test\n",
    "\"Is the average salary significantly different from 40,000?\""
   ]
  },
  {
   "cell_type": "code",
   "execution_count": 2,
   "id": "67bcc2c7-da3a-40be-88ba-9a797389bc29",
   "metadata": {},
   "outputs": [
    {
     "name": "stdout",
     "output_type": "stream",
     "text": [
      "t-statistic: 0.0\n",
      "p-value: 1.0\n",
      "Fail to reject null hypothesis: No significant difference\n"
     ]
    }
   ],
   "source": [
    "from scipy import stats\n",
    "\n",
    "# One-sample t-test\n",
    "t_stat, p_value = stats.ttest_1samp(data['Salary'], 40000)\n",
    "print(\"t-statistic:\", t_stat)\n",
    "print(\"p-value:\", p_value)\n",
    "\n",
    "if p_value < 0.05:\n",
    "    print(\"Reject null hypothesis: Mean ≠ 40000\")\n",
    "else:\n",
    "    print(\"Fail to reject null hypothesis: No significant difference\")\n"
   ]
  },
  {
   "cell_type": "markdown",
   "id": "9bad277b-7271-45c3-a2ae-e3b7ed237da1",
   "metadata": {},
   "source": [
    "Two-Sample t-test\n",
    "Compare two groups (e.g., male vs female)\n",
    "\n"
   ]
  },
  {
   "cell_type": "code",
   "execution_count": 3,
   "id": "1c5d9ecc-1d3b-4991-a085-34df8024da56",
   "metadata": {},
   "outputs": [
    {
     "name": "stdout",
     "output_type": "stream",
     "text": [
      "Two-sample t-test p-value: 0.37692174668608147\n"
     ]
    }
   ],
   "source": [
    "group1 = [22, 25, 27, 29]  # Group A (e.g., male)\n",
    "group2 = [24, 26, 30, 32]  # Group B (e.g., female)\n",
    "\n",
    "t_stat, p_val = stats.ttest_ind(group1, group2)\n",
    "print(\"Two-sample t-test p-value:\", p_val)\n"
   ]
  },
  {
   "cell_type": "code",
   "execution_count": 4,
   "id": "58b3080d-add9-4b5d-bbaf-3db3707fd72f",
   "metadata": {},
   "outputs": [
    {
     "name": "stdout",
     "output_type": "stream",
     "text": [
      "Correlation between Age and Salary: 0.9983334247626009\n"
     ]
    }
   ],
   "source": [
    "correlation = data['Age'].corr(data['Salary'])\n",
    "print(\"Correlation between Age and Salary:\", correlation)\n"
   ]
  },
  {
   "cell_type": "code",
   "execution_count": 5,
   "id": "6b5a4490-28be-4e16-a6b4-94374c581b3f",
   "metadata": {},
   "outputs": [
    {
     "data": {
      "image/png": "[encoded data removed]",
      "text/plain": [
       "<Figure size 640x480 with 1 Axes>"
      ]
     },
     "metadata": {},
     "output_type": "display_data"
    }
   ],
   "source": [
    "import seaborn as sns\n",
    "import matplotlib.pyplot as plt\n",
    "\n",
    "sns.scatterplot(x='Age', y='Salary', data=data)\n",
    "plt.title(\"Age vs Salary\")\n",
    "plt.show()\n"
   ]
  },
  {
   "cell_type": "code",
   "execution_count": 7,
   "id": "e3ce16cf-33fa-49fd-9f07-374f37941bcf",
   "metadata": {},
   "outputs": [
    {
     "name": "stdout",
     "output_type": "stream",
     "text": [
      "Defaulting to user installation because normal site-packages is not writeable\n",
      "Collecting statsmodels\n",
      "  Downloading statsmodels-0.14.5-cp312-cp312-win_amd64.whl.metadata (9.8 kB)\n",
      "Requirement already satisfied: numpy<3,>=1.22.3 in c:\\users\\9527\\appdata\\local\\packages\\pythonsoftwarefoundation.python.3.12_qbz5n2kfra8p0\\localcache\\local-packages\\python312\\site-packages (from statsmodels) (1.26.3)\n",
      "Requirement already satisfied: scipy!=1.9.2,>=1.8 in c:\\users\\9527\\appdata\\local\\packages\\pythonsoftwarefoundation.python.3.12_qbz5n2kfra8p0\\localcache\\local-packages\\python312\\site-packages (from statsmodels) (1.14.1)\n",
      "Requirement already satisfied: pandas!=2.1.0,>=1.4 in c:\\users\\9527\\appdata\\local\\packages\\pythonsoftwarefoundation.python.3.12_qbz5n2kfra8p0\\localcache\\local-packages\\python312\\site-packages (from statsmodels) (2.2.3)\n",
      "Collecting patsy>=0.5.6 (from statsmodels)\n",
      "  Downloading patsy-1.0.1-py2.py3-none-any.whl.metadata (3.3 kB)\n",
      "Requirement already satisfied: packaging>=21.3 in c:\\users\\9527\\appdata\\local\\packages\\pythonsoftwarefoundation.python.3.12_qbz5n2kfra8p0\\localcache\\local-packages\\python312\\site-packages (from statsmodels) (24.1)\n",
      "Requirement already satisfied: python-dateutil>=2.8.2 in c:\\users\\9527\\appdata\\local\\packages\\pythonsoftwarefoundation.python.3.12_qbz5n2kfra8p0\\localcache\\local-packages\\python312\\site-packages (from pandas!=2.1.0,>=1.4->statsmodels) (2.9.0.post0)\n",
      "Requirement already satisfied: pytz>=2020.1 in c:\\users\\9527\\appdata\\local\\packages\\pythonsoftwarefoundation.python.3.12_qbz5n2kfra8p0\\localcache\\local-packages\\python312\\site-packages (from pandas!=2.1.0,>=1.4->statsmodels) (2024.2)\n",
      "Requirement already satisfied: tzdata>=2022.7 in c:\\users\\9527\\appdata\\local\\packages\\pythonsoftwarefoundation.python.3.12_qbz5n2kfra8p0\\localcache\\local-packages\\python312\\site-packages (from pandas!=2.1.0,>=1.4->statsmodels) (2024.2)\n",
      "Requirement already satisfied: six>=1.5 in c:\\users\\9527\\appdata\\local\\packages\\pythonsoftwarefoundation.python.3.12_qbz5n2kfra8p0\\localcache\\local-packages\\python312\\site-packages (from python-dateutil>=2.8.2->pandas!=2.1.0,>=1.4->statsmodels) (1.16.0)\n",
      "Downloading statsmodels-0.14.5-cp312-cp312-win_amd64.whl (9.6 MB)\n",
      "   ---------------------------------------- 0.0/9.6 MB ? eta -:--:--\n",
      "   ---------------------------------------- 0.0/9.6 MB ? eta -:--:--\n",
      "   -- ------------------------------------- 0.5/9.6 MB 2.8 MB/s eta 0:00:04\n",
      "   ----- ---------------------------------- 1.3/9.6 MB 4.0 MB/s eta 0:00:03\n",
      "   --------- ------------------------------ 2.4/9.6 MB 4.2 MB/s eta 0:00:02\n",
      "   --------------- ------------------------ 3.7/9.6 MB 4.5 MB/s eta 0:00:02\n",
      "   --------------------- ------------------ 5.2/9.6 MB 5.1 MB/s eta 0:00:01\n",
      "   ------------------------- -------------- 6.0/9.6 MB 5.3 MB/s eta 0:00:01\n",
      "   --------------------------- ------------ 6.6/9.6 MB 4.5 MB/s eta 0:00:01\n",
      "   ----------------------------- ---------- 7.1/9.6 MB 4.2 MB/s eta 0:00:01\n",
      "   -------------------------------- ------- 7.9/9.6 MB 4.1 MB/s eta 0:00:01\n",
      "   ---------------------------------------  9.4/9.6 MB 4.4 MB/s eta 0:00:01\n",
      "   ---------------------------------------- 9.6/9.6 MB 4.1 MB/s eta 0:00:00\n",
      "Downloading patsy-1.0.1-py2.py3-none-any.whl (232 kB)\n",
      "Installing collected packages: patsy, statsmodels\n",
      "Successfully installed patsy-1.0.1 statsmodels-0.14.5\n"
     ]
    },
    {
     "name": "stderr",
     "output_type": "stream",
     "text": [
      "\n",
      "[notice] A new release of pip is available: 25.0.1 -> 25.1.1\n",
      "[notice] To update, run: C:\\Users\\9527\\AppData\\Local\\Microsoft\\WindowsApps\\PythonSoftwareFoundation.Python.3.12_qbz5n2kfra8p0\\python.exe -m pip install --upgrade pip\n"
     ]
    },
    {
     "name": "stdout",
     "output_type": "stream",
     "text": [
      "                            OLS Regression Results                            \n",
      "==============================================================================\n",
      "Dep. Variable:                 Salary   R-squared:                       0.997\n",
      "Model:                            OLS   Adj. R-squared:                  0.996\n",
      "Method:                 Least Squares   F-statistic:                     1496.\n",
      "Date:                Mon, 28 Jul 2025   Prob (F-statistic):           2.18e-07\n",
      "Time:                        00:15:24   Log-Likelihood:                -54.439\n",
      "No. Observations:                   7   AIC:                             112.9\n",
      "Df Residuals:                       5   BIC:                             112.8\n",
      "Df Model:                           1                                         \n",
      "Covariance Type:            nonrobust                                         \n",
      "==============================================================================\n",
      "                 coef    std err          t      P>|t|      [0.025      0.975]\n",
      "------------------------------------------------------------------------------\n",
      "const       3257.1048    984.297      3.309      0.021     726.890    5787.320\n",
      "Age         1041.2966     26.919     38.682      0.000     972.099    1110.494\n",
      "==============================================================================\n",
      "Omnibus:                          nan   Durbin-Watson:                   1.601\n",
      "Prob(Omnibus):                    nan   Jarque-Bera (JB):                0.797\n",
      "Skew:                          -0.821   Prob(JB):                        0.671\n",
      "Kurtosis:                       2.813   Cond. No.                         140.\n",
      "==============================================================================\n",
      "\n",
      "Notes:\n",
      "[1] Standard Errors assume that the covariance matrix of the errors is correctly specified.\n"
     ]
    },
    {
     "name": "stderr",
     "output_type": "stream",
     "text": [
      "C:\\Users\\9527\\AppData\\Local\\Packages\\PythonSoftwareFoundation.Python.3.12_qbz5n2kfra8p0\\LocalCache\\local-packages\\Python312\\site-packages\\statsmodels\\stats\\stattools.py:74: ValueWarning: omni_normtest is not valid with less than 8 observations; 7 samples were given.\n",
      "  warn(\"omni_normtest is not valid with less than 8 observations; %i \"\n"
     ]
    }
   ],
   "source": [
    "!pip install statsmodels\n",
    "import statsmodels.api as sm\n",
    "\n",
    "X = data['Age']\n",
    "y = data['Salary']\n",
    "\n",
    "# Add constant term (intercept)\n",
    "X = sm.add_constant(X)\n",
    "\n",
    "model = sm.OLS(y, X).fit()\n",
    "print(model.summary())\n"
   ]
  },
  {
   "cell_type": "code",
   "execution_count": 8,
   "id": "0990678b-2e9f-4760-8bd0-68cfd87da12f",
   "metadata": {},
   "outputs": [],
   "source": [
    "import math\n"
   ]
  },
  {
   "cell_type": "code",
   "execution_count": 9,
   "id": "d92cf307-6241-421c-aab9-99f60044790b",
   "metadata": {},
   "outputs": [],
   "source": [
    "data = [25000, 30000, 35000, 40000, 45000, 50000, 55000]\n"
   ]
  },
  {
   "cell_type": "code",
   "execution_count": 10,
   "id": "c3737fbe-7488-4bc1-8a3f-f1eadabe5791",
   "metadata": {},
   "outputs": [
    {
     "name": "stdout",
     "output_type": "stream",
     "text": [
      "Mean: 40000.0\n"
     ]
    }
   ],
   "source": [
    "def mean(lst):\n",
    "    return sum(lst) / len(lst)\n",
    "\n",
    "print(\"Mean:\", mean(data))\n"
   ]
  },
  {
   "cell_type": "code",
   "execution_count": 11,
   "id": "d5a34d3d-27eb-42b1-bbef-50eeca24de7a",
   "metadata": {},
   "outputs": [
    {
     "name": "stdout",
     "output_type": "stream",
     "text": [
      "Median: 40000\n"
     ]
    }
   ],
   "source": [
    "def median(lst):\n",
    "    lst_sorted = sorted(lst)\n",
    "    n = len(lst_sorted)\n",
    "    mid = n // 2\n",
    "    if n % 2 == 0:\n",
    "        return (lst_sorted[mid - 1] + lst_sorted[mid]) / 2\n",
    "    else:\n",
    "        return lst_sorted[mid]\n",
    "\n",
    "print(\"Median:\", median(data))\n"
   ]
  },
  {
   "cell_type": "code",
   "execution_count": 12,
   "id": "007107bd-e470-40af-8605-44f449a1216f",
   "metadata": {},
   "outputs": [
    {
     "name": "stdout",
     "output_type": "stream",
     "text": [
      "Standard Deviation: 10801.234497346433\n"
     ]
    }
   ],
   "source": [
    "def std_dev(lst):\n",
    "    m = mean(lst)\n",
    "    variance = sum((x - m) ** 2 for x in lst) / (len(lst) - 1)\n",
    "    return math.sqrt(variance)\n",
    "\n",
    "print(\"Standard Deviation:\", std_dev(data))\n"
   ]
  },
  {
   "cell_type": "code",
   "execution_count": 13,
   "id": "beed0e23-f0b4-4de5-8f05-3a66c96077e5",
   "metadata": {},
   "outputs": [
    {
     "name": "stdout",
     "output_type": "stream",
     "text": [
      "t-statistic: 0.0\n"
     ]
    }
   ],
   "source": [
    "def t_test(sample, mu0):\n",
    "    m = mean(sample)\n",
    "    s = std_dev(sample)\n",
    "    n = len(sample)\n",
    "    t_stat = (m - mu0) / (s / math.sqrt(n))\n",
    "    return t_stat\n",
    "\n",
    "t = t_test(data, 40000)\n",
    "print(\"t-statistic:\", t)\n"
   ]
  },
  {
   "cell_type": "code",
   "execution_count": 14,
   "id": "3b549601-f52d-43a4-ae1b-e242d2ff6185",
   "metadata": {},
   "outputs": [
    {
     "name": "stdout",
     "output_type": "stream",
     "text": [
      "Pearson Correlation: 0.9983334247626009\n"
     ]
    }
   ],
   "source": [
    "x = [22, 25, 30, 35, 40, 45, 50]\n",
    "y = [25000, 30000, 35000, 40000, 45000, 50000, 55000]\n",
    "\n",
    "def pearson_corr(x, y):\n",
    "    n = len(x)\n",
    "    mx = mean(x)\n",
    "    my = mean(y)\n",
    "    numerator = sum((x[i] - mx) * (y[i] - my) for i in range(n))\n",
    "    denominator = math.sqrt(sum((x[i] - mx) ** 2 for i in range(n)) * sum((y[i] - my) ** 2 for i in range(n)))\n",
    "    return numerator / denominator\n",
    "\n",
    "r = pearson_corr(x, y)\n",
    "print(\"Pearson Correlation:\", r)\n"
   ]
  },
  {
   "cell_type": "code",
   "execution_count": 15,
   "id": "fb93406c-8505-4e40-ba40-05a760573558",
   "metadata": {},
   "outputs": [
    {
     "name": "stdout",
     "output_type": "stream",
     "text": [
      "Regression line: y = 3257.10 + 1041.30x\n"
     ]
    }
   ],
   "source": [
    "def linear_regression(x, y):\n",
    "    mx = mean(x)\n",
    "    my = mean(y)\n",
    "    numerator = sum((x[i] - mx) * (y[i] - my) for i in range(len(x)))\n",
    "    denominator = sum((x[i] - mx) ** 2 for i in range(len(x)))\n",
    "    b = numerator / denominator\n",
    "    a = my - b * mx\n",
    "    return a, b\n",
    "\n",
    "a, b = linear_regression(x, y)\n",
    "print(f\"Regression line: y = {a:.2f} + {b:.2f}x\")\n"
   ]
  },
  {
   "cell_type": "code",
   "execution_count": 16,
   "id": "f67e6dba-47e3-4b82-8bb6-ee7fcadd48f6",
   "metadata": {},
   "outputs": [
    {
     "name": "stdout",
     "output_type": "stream",
     "text": [
      "Predicted salary for age 33: 37619.893428063944\n"
     ]
    }
   ],
   "source": [
    "def predict(x_new):\n",
    "    return a + b * x_new\n",
    "\n",
    "print(\"Predicted salary for age 33:\", predict(33))\n"
   ]
  },
  {
   "cell_type": "code",
   "execution_count": null,
   "id": "27e85d2a-3239-45ac-ade6-d9ba890a9de8",
   "metadata": {},
   "outputs": [],
   "source": []
  }
 ],
 "metadata": {
  "kernelspec": {
   "display_name": "Python 3 (ipykernel)",
   "language": "python",
   "name": "python3"
  },
  "language_info": {
   "codemirror_mode": {
    "name": "ipython",
    "version": 3
   },
   "file_extension": ".py",
   "mimetype": "text/x-python",
   "name": "python",
   "nbconvert_exporter": "python",
   "pygments_lexer": "ipython3",
   "version": "3.12.10"
  }
 },
 "nbformat": 4,
 "nbformat_minor": 5
}
